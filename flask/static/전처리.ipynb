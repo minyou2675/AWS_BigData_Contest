{
 "cells": [
  {
   "cell_type": "code",
   "execution_count": 5,
   "metadata": {},
   "outputs": [
    {
     "data": {
      "text/plain": [
       "Unnamed: 0         int64\n",
       "SGG_NM            object\n",
       "EMD_NM            object\n",
       "상업생활밀착형상업시설정보      int64\n",
       "상업대규모복합상가정보        int64\n",
       "상업전통시장정보           int64\n",
       "상업도매시장정보           int64\n",
       "교육대학정보             int64\n",
       "교육초중등학교정보          int64\n",
       "교육유치원정보            int64\n",
       "교육평생교육시설정보         int64\n",
       "교육민간학원정보           int64\n",
       "의료의원정보             int64\n",
       "의료응급의료기관정보         int64\n",
       "의료병원정보             int64\n",
       "의료산후조리원정보          int64\n",
       "의료약국정보             int64\n",
       "복지장애인복지시설정보        int64\n",
       "복지노인복지시설정보         int64\n",
       "복지여성복지시설정보         int64\n",
       "시도                object\n",
       "하위                object\n",
       "latitude         float64\n",
       "longitude        float64\n",
       "코드                 int64\n",
       "코드종류              object\n",
       "교육                 int64\n",
       "상업                 int64\n",
       "복지                 int64\n",
       "의료                 int64\n",
       "dtype: object"
      ]
     },
     "execution_count": 5,
     "metadata": {},
     "output_type": "execute_result"
    }
   ],
   "source": [
    "import pandas as pd\n",
    "new_infra_df = pd.read_csv('new_infra.csv')\n",
    "new_infra_df.dtypes\n"
   ]
  },
  {
   "cell_type": "code",
   "execution_count": 21,
   "metadata": {},
   "outputs": [],
   "source": [
    "new_infra_df['의료순위']= new_infra_df['의료'].rank(method='max',ascending=False)\n",
    "new_infra_df['상업순위'] = new_infra_df['상업'].rank(method='max',ascending=False)\n",
    "new_infra_df['교육순위'] = new_infra_df['교육'].rank(method='max',ascending=False)\n",
    "new_infra_df['복지순위'] = new_infra_df['복지'].rank(method='max',ascending=False)\n",
    "\n",
    "new_infra_df.to_csv('new_infra.csv')"
   ]
  },
  {
   "cell_type": "code",
   "execution_count": 24,
   "metadata": {},
   "outputs": [],
   "source": [
    "pop_df = pd.read_csv('population.csv',encoding='utf-8')\n",
    "new_infra_df['totalinfra'] = new_infra_df['의료']+new_infra_df['상업']+new_infra_df['교육']+new_infra_df['복지']\n",
    "total_infra = new_infra_df.groupby('SGG_NM')['totalinfra'].sum()\n",
    "pop_df = pd.merge(left=pop_df,right=total_infra,on='SGG_NM')\n",
    "pop_df['infrapop'] = pop_df['totalinfra']/pop_df['population']\n",
    "\n",
    "pop_df['infra_rank'] = pop_df['infrapop'].rank(method='min',ascending=False)\n",
    "pop_df.to_csv('population.csv')\n"
   ]
  },
  {
   "cell_type": "code",
   "execution_count": null,
   "metadata": {},
   "outputs": [],
   "source": []
  }
 ],
 "metadata": {
  "kernelspec": {
   "display_name": "Python 3",
   "language": "python",
   "name": "python3"
  },
  "language_info": {
   "codemirror_mode": {
    "name": "ipython",
    "version": 3
   },
   "file_extension": ".py",
   "mimetype": "text/x-python",
   "name": "python",
   "nbconvert_exporter": "python",
   "pygments_lexer": "ipython3",
   "version": "3.10.10"
  },
  "orig_nbformat": 4
 },
 "nbformat": 4,
 "nbformat_minor": 2
}

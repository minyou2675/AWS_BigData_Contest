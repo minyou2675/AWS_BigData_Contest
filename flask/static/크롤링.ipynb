{
 "cells": [
  {
   "cell_type": "code",
   "execution_count": 10,
   "metadata": {},
   "outputs": [
    {
     "name": "stdout",
     "output_type": "stream",
     "text": [
      "{0: {'title': '청년농업인 영농정착지원', 'date': '2023-07-24', 'sponsor': '농림축산식품사업(2023년)'}, 1: {'title': '지능형농장 청년교육생 208명 선정', 'date': '2023-07-18', 'sponsor': '농림축산식품사업(2023년)'}, 2: {'title': '귀농 농업창업 및 주택구입지원사업', 'date': '2023-07-13', 'sponsor': '농림축산식품사업(2023년)'}}\n"
     ]
    }
   ],
   "source": [
    "from selenium import webdriver\n",
    "from selenium.webdriver.common.by import By\n",
    "\n",
    "dr = webdriver.Chrome()\n",
    "url = 'https://www.greendaero.go.kr/svc/rfph/cpif/front/home.do?tab=A'\n",
    "dr.get(url) \n",
    "dr.implicitly_wait(5)\n",
    "elements = dr.find_elements(By.CSS_SELECTOR,'li > .box')\n",
    "\n",
    "result_dict = {}\n",
    "idx = 0\n",
    "for element in elements:\n",
    "    lst = {}\n",
    "    lst['title'] = element.find_element(By.CSS_SELECTOR, 'a').text\n",
    "    lst['date'] = element.find_element(By.CSS_SELECTOR,'.frstRegDt').text\n",
    "    lst['sponsor'] = element.find_element(By.CSS_SELECTOR, '.srch').text.split('\\n')[0]\n",
    "    result_dict[idx] = lst\n",
    "    idx += 1\n",
    "print(result_dict)\n",
    "  "
   ]
  },
  {
   "cell_type": "code",
   "execution_count": 8,
   "metadata": {},
   "outputs": [],
   "source": [
    "import json\n",
    "file_path = './crawling.json'\n",
    "\n",
    "with open(file_path,'w',encoding='utf-8') as file:\n",
    "    json.dump(result_dict,file)"
   ]
  }
 ],
 "metadata": {
  "kernelspec": {
   "display_name": "base",
   "language": "python",
   "name": "python3"
  },
  "language_info": {
   "codemirror_mode": {
    "name": "ipython",
    "version": 3
   },
   "file_extension": ".py",
   "mimetype": "text/x-python",
   "name": "python",
   "nbconvert_exporter": "python",
   "pygments_lexer": "ipython3",
   "version": "3.10.10"
  },
  "orig_nbformat": 4
 },
 "nbformat": 4,
 "nbformat_minor": 2
}
